{
 "cells": [
  {
   "cell_type": "markdown",
   "id": "25f64b6a",
   "metadata": {},
   "source": [
    "if\n",
    "if---else\n",
    "if---else---else\n",
    "条件语句的括号可以省略"
   ]
  },
  {
   "cell_type": "code",
   "execution_count": 1,
   "id": "8456e182",
   "metadata": {},
   "outputs": [
    {
     "name": "stdout",
     "output_type": "stream",
     "text": [
      "请输入一个一百以内的数字50\n",
      "您输入的数字较小\n",
      "请输入一个一百以内的数字80\n",
      "您输入的数字较大\n",
      "请输入一个一百以内的数字7\n",
      "您输入的数字较小\n",
      "请输入一个一百以内的数字70\n",
      "您输入的数字较大\n",
      "请输入一个一百以内的数字60\n",
      "您输入的数字较小\n",
      "请输入一个一百以内的数字65\n",
      "您输入的数字较大\n",
      "请输入一个一百以内的数字63\n",
      "恭喜您猜对了，是63\n"
     ]
    }
   ],
   "source": [
    "import random\n",
    "x = random.randint(0,100)\n",
    "n = 0\n",
    "while(n != x):\n",
    "    n = int(input(\"请输入一个一百以内的数字\"))\n",
    "    if(n > x):\n",
    "        print(\"您输入的数字较大\")\n",
    "    if(n < x):\n",
    "        print(\"您输入的数字较小\")\n",
    "print(\"恭喜您猜对了，是%d\" %(x))"
   ]
  },
  {
   "cell_type": "code",
   "execution_count": 2,
   "id": "d8010287",
   "metadata": {},
   "outputs": [
    {
     "name": "stdout",
     "output_type": "stream",
     "text": [
      "hahah\n"
     ]
    }
   ],
   "source": [
    "print(\"hahah\")"
   ]
  },
  {
   "cell_type": "code",
   "execution_count": 4,
   "id": "2bafdd96",
   "metadata": {},
   "outputs": [
    {
     "name": "stdout",
     "output_type": "stream",
     "text": [
      "请输入密码raojiann\n",
      "密码错误，请重新输入\n",
      "请输入密码raojian\n",
      "登陆成功！\n"
     ]
    }
   ],
   "source": [
    "userPwd = 'raojian'\n",
    "pwd = ''\n",
    "pwd = input(\"请输入密码\")\n",
    "while(userPwd != pwd):\n",
    "    print(\"密码错误，请重新输入\")\n",
    "    pwd = input(\"请输入密码\")\n",
    "print(\"登陆成功！\")"
   ]
  },
  {
   "cell_type": "code",
   "execution_count": 2,
   "id": "02e2499e",
   "metadata": {},
   "outputs": [
    {
     "name": "stdout",
     "output_type": "stream",
     "text": [
      "0\n",
      "3\n",
      "6\n",
      "9\n",
      "12\n",
      "15\n",
      "18\n",
      "21\n",
      "24\n",
      "27\n",
      "30\n",
      "33\n",
      "36\n",
      "39\n",
      "42\n",
      "45\n",
      "48\n"
     ]
    }
   ],
   "source": [
    "i = 0\n",
    "while(i < 50):\n",
    "    if(i%3 == 0):\n",
    "        print(i)\n",
    "    i=1+i"
   ]
  },
  {
   "cell_type": "code",
   "execution_count": 4,
   "id": "1f609626",
   "metadata": {},
   "outputs": [
    {
     "name": "stdout",
     "output_type": "stream",
     "text": [
      "55\n"
     ]
    }
   ],
   "source": [
    "i = 1\n",
    "sum = 0\n",
    "while(i<=10):\n",
    "    sum += i\n",
    "    i += 1\n",
    "print(sum)"
   ]
  }
 ],
 "metadata": {
  "kernelspec": {
   "display_name": "Python 3 (ipykernel)",
   "language": "python",
   "name": "python3"
  },
  "language_info": {
   "codemirror_mode": {
    "name": "ipython",
    "version": 3
   },
   "file_extension": ".py",
   "mimetype": "text/x-python",
   "name": "python",
   "nbconvert_exporter": "python",
   "pygments_lexer": "ipython3",
   "version": "3.10.0"
  }
 },
 "nbformat": 4,
 "nbformat_minor": 5
}
