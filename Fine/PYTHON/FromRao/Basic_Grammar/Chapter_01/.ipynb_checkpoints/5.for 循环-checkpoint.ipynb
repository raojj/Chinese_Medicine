{
 "cells": [
  {
   "cell_type": "markdown",
   "id": "6ba0a765",
   "metadata": {},
   "source": [
    "for循环：\n",
    "格式\n",
    "    for i in range(n)；\n",
    "        循环体的内容\n",
    "        \n",
    "for---else\n",
    "while---else\n",
    "\n",
    "break 跳出整个循环\n",
    "continue 跳出某个条件的循环"
   ]
  },
  {
   "cell_type": "code",
   "execution_count": 3,
   "id": "db96b48b",
   "metadata": {},
   "outputs": [
    {
     "name": "stdout",
     "output_type": "stream",
     "text": [
      "0\n",
      "1\n",
      "2\n",
      "3\n",
      "4\n",
      "5\n",
      "6\n",
      "7\n",
      "8\n",
      "9\n"
     ]
    }
   ],
   "source": [
    "# [0,n)\n",
    "for i in range(10):\n",
    "    print(i)"
   ]
  },
  {
   "cell_type": "code",
   "execution_count": 4,
   "id": "a9552ef4",
   "metadata": {},
   "outputs": [
    {
     "name": "stdout",
     "output_type": "stream",
     "text": [
      "0\n",
      "1\n",
      "2\n",
      "3\n",
      "4\n",
      "5\n",
      "6\n",
      "7\n",
      "8\n",
      "9\n"
     ]
    }
   ],
   "source": [
    "# [start,end)\n",
    "for i in range(0,10):\n",
    "    print(i)"
   ]
  },
  {
   "cell_type": "code",
   "execution_count": 5,
   "id": "df71a9f5",
   "metadata": {},
   "outputs": [
    {
     "name": "stdout",
     "output_type": "stream",
     "text": [
      "0\n",
      "2\n",
      "4\n",
      "6\n",
      "8\n",
      "10\n"
     ]
    }
   ],
   "source": [
    "# [start,end),step = 0每隔2输出一个\n",
    "for i in range(0,11,2):\n",
    "    print(i)"
   ]
  },
  {
   "cell_type": "code",
   "execution_count": 6,
   "id": "df4fa758",
   "metadata": {},
   "outputs": [
    {
     "name": "stdout",
     "output_type": "stream",
     "text": [
      "1275\n"
     ]
    }
   ],
   "source": [
    "sum = 0\n",
    "for i in range(51):\n",
    "    sum += i\n",
    "print(sum)"
   ]
  },
  {
   "cell_type": "code",
   "execution_count": 9,
   "id": "3e0dc0cd",
   "metadata": {},
   "outputs": [
    {
     "name": "stdout",
     "output_type": "stream",
     "text": [
      "请输入密码raojian\n",
      "登陆成功\n"
     ]
    }
   ],
   "source": [
    "userPwd = 'raojian'\n",
    "pwd = ''\n",
    "i = 0\n",
    "for i in range(3):\n",
    "    pwd = input(\"请输入密码\")\n",
    "    if (userPwd == pwd):\n",
    "        print(\"登陆成功\")\n",
    "        break\n",
    "    print(\"密码有误\")\n",
    "if(i == 2):\n",
    "    print(\"账户锁定！\")"
   ]
  },
  {
   "cell_type": "code",
   "execution_count": 11,
   "id": "86ad9ed5",
   "metadata": {},
   "outputs": [
    {
     "name": "stdout",
     "output_type": "stream",
     "text": [
      "请输入密码rao\n",
      "密码有误\n",
      "请输入密码rao\n",
      "密码有误\n",
      "请输入密码raojj000120@163.com\n",
      "密码有误\n",
      "账户锁定！\n"
     ]
    }
   ],
   "source": [
    "userPwd = 'raojian'\n",
    "pwd = ''\n",
    "for i in range(3):\n",
    "    pwd = input(\"请输入密码\")\n",
    "    if (userPwd == pwd):\n",
    "        print(\"登陆成功\")\n",
    "        break\n",
    "    print(\"密码有误\")\n",
    "else:\n",
    "    print(\"账户锁定！\")"
   ]
  },
  {
   "cell_type": "code",
   "execution_count": 13,
   "id": "f65b5618",
   "metadata": {},
   "outputs": [
    {
     "name": "stdout",
     "output_type": "stream",
     "text": [
      "请输入商品，输入“结束”停止程序手机\n",
      "手机商品已添加到购物车！\n",
      "请输入商品，输入“结束”停止程序手表\n",
      "手表商品已添加到购物车！\n",
      "请输入商品，输入“结束”停止程序电脑\n",
      "电脑商品已添加到购物车！\n",
      "请输入商品，输入“结束”停止程序结束\n",
      "程序结束！\n"
     ]
    }
   ],
   "source": [
    "while(True):\n",
    "    x = input(\"请输入商品，输入“结束”停止程序\")\n",
    "    if(x == '结束'):\n",
    "        print(\"程序结束！\")\n",
    "        break\n",
    "    print(\"%s商品已添加到购物车！\"%(x))"
   ]
  },
  {
   "cell_type": "code",
   "execution_count": null,
   "id": "18e6e660",
   "metadata": {},
   "outputs": [],
   "source": []
  }
 ],
 "metadata": {
  "kernelspec": {
   "display_name": "Python 3 (ipykernel)",
   "language": "python",
   "name": "python3"
  },
  "language_info": {
   "codemirror_mode": {
    "name": "ipython",
    "version": 3
   },
   "file_extension": ".py",
   "mimetype": "text/x-python",
   "name": "python",
   "nbconvert_exporter": "python",
   "pygments_lexer": "ipython3",
   "version": "3.10.0"
  }
 },
 "nbformat": 4,
 "nbformat_minor": 5
}
