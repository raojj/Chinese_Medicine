{
 "cells": [
  {
   "cell_type": "markdown",
   "id": "2339f581",
   "metadata": {},
   "source": [
    "算数运算符\n",
    "    = 赋值运算符\n",
    "    + 加法\n",
    "    - 减法\n",
    "    * 乘法\n",
    "    / 除法\n",
    "    % 取余\n",
    "逻辑运算符\n",
    "    and 与\n",
    "    or  或\n",
    "    not 非\n",
    "格式化输出\n",
    "    %% 输出%号\n",
    "    %s 字符串\n",
    "    %d 有符号十进制整数\n",
    "    %f 浮点数\n",
    "    %c 字符\n",
    "    %u 无符号十进制整数\n",
    "    %o 八进制整数\n",
    "    %x 十六进制整数\n",
    "    %X 十六进制整数\n",
    "    %e 科学计数法\n",
    "    %E 科学计数法\n",
    "    %g %f和%e的简写\n",
    "    %G %F和%E的简写\n",
    "    "
   ]
  },
  {
   "cell_type": "code",
   "execution_count": 3,
   "id": "3d7bf9db",
   "metadata": {},
   "outputs": [
    {
     "name": "stdout",
     "output_type": "stream",
     "text": [
      "我喜欢16岁的lihua\n"
     ]
    }
   ],
   "source": [
    "age = 16\n",
    "name = 'lihua'\n",
    "print('我喜欢%d岁的%s'%(age,name))"
   ]
  },
  {
   "cell_type": "code",
   "execution_count": null,
   "id": "fd9a8276",
   "metadata": {},
   "outputs": [],
   "source": []
  }
 ],
 "metadata": {
  "kernelspec": {
   "display_name": "Python 3 (ipykernel)",
   "language": "python",
   "name": "python3"
  },
  "language_info": {
   "codemirror_mode": {
    "name": "ipython",
    "version": 3
   },
   "file_extension": ".py",
   "mimetype": "text/x-python",
   "name": "python",
   "nbconvert_exporter": "python",
   "pygments_lexer": "ipython3",
   "version": "3.10.0"
  }
 },
 "nbformat": 4,
 "nbformat_minor": 5
}
