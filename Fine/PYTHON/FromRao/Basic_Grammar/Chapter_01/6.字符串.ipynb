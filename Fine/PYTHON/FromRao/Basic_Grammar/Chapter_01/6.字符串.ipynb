{
 "cells": [
  {
   "cell_type": "markdown",
   "id": "de7411e1",
   "metadata": {},
   "source": [
    "字符串保留区类似于 Java 的字符串常量池\n",
    "\n",
    "字符串切片:\n",
    "格式：字符串变量[start:end]\n",
    "\n",
    "字符串操作\n",
    "获取长度len\n",
    "查找内容find、index、rfind、rindex\n",
    "判   断startswith、endswith、isalpha(字母？)、isdigit（数字?）、isalnum(字母或数字？)、isspace（空格？）\n",
    "计算出现的次数count\n",
    "切割字符串split、rsplit、splitlines、partition、rpartition\n",
    "修改大小写capitalize、title、upper、lower\n",
    "空格处理ljust、rjust、center、lstrip、rstrip、strip\n",
    "字符串拼接join"
   ]
  },
  {
   "cell_type": "code",
   "execution_count": 3,
   "id": "94c891a8",
   "metadata": {},
   "outputs": [
    {
     "name": "stdout",
     "output_type": "stream",
     "text": [
      "True\n",
      "False\n",
      "2196786900528 2196786900528 2196786900528 2196718951792\n"
     ]
    }
   ],
   "source": [
    "# a is b 比较a和b的地址,id(a)返回a的地址\n",
    "s1 = 'hello'\n",
    "s2 = s1\n",
    "s3 = 'hello'\n",
    "s4 = 'hi'\n",
    "print(s1 is s2)\n",
    "print(s1 is s4)\n",
    "print(id(s1),id(s2),id(s3),id(s4))"
   ]
  },
  {
   "cell_type": "code",
   "execution_count": 5,
   "id": "21d18118",
   "metadata": {},
   "outputs": [
    {
     "name": "stdout",
     "output_type": "stream",
     "text": [
      "7\n",
      "A\n",
      "C\n",
      "G\n"
     ]
    }
   ],
   "source": [
    "# len(str),返回str字符串的长度\n",
    "s1 = 'ABCDEFG'\n",
    "print(len(s1))\n",
    "print(s1[0])\n",
    "print(s1[2])\n",
    "print(s1[-1])"
   ]
  },
  {
   "cell_type": "code",
   "execution_count": 23,
   "id": "276eeb36",
   "metadata": {},
   "outputs": [
    {
     "name": "stdout",
     "output_type": "stream",
     "text": [
      "01\n",
      "01\n",
      "567\n",
      "0246\n",
      "76543210\n",
      "73\n"
     ]
    }
   ],
   "source": [
    "# 切片 [start,end)\n",
    "s = '01234567'\n",
    "print(s[0:2])\n",
    "print(s[:2])\n",
    "print(s[-3:])\n",
    "print(s[:7:2])\n",
    "print(s[::-1])\n",
    "print(s[::-4])"
   ]
  },
  {
   "cell_type": "code",
   "execution_count": 25,
   "id": "476efad9",
   "metadata": {},
   "outputs": [
    {
     "name": "stdout",
     "output_type": "stream",
     "text": [
      "10043478814980456326%22%7D&n_type=-1&p_from=-1\n",
      "79\n"
     ]
    }
   ],
   "source": [
    "# s.find(str) 从左到右查询str，第一次查到时结束，未查到返回-1,rfind从右到左，其他一样\n",
    "s = \"https://mbd.baidu.com/newspage/data/landingsuper?context=%7B%22nid%22%3A%22news_10043478814980456326%22%7D&n_type=-1&p_from=-1\"\n",
    "i = s.find('_')\n",
    "print(s[i+1:])\n",
    "print(i)"
   ]
  },
  {
   "cell_type": "code",
   "execution_count": 28,
   "id": "efaab437",
   "metadata": {},
   "outputs": [
    {
     "name": "stdout",
     "output_type": "stream",
     "text": [
      "3\n",
      "1\n"
     ]
    }
   ],
   "source": [
    "# s.count(str) 计算str在字符串s中出现的次数\n",
    "print(s.count('m'))\n",
    "print(s.count('com'))"
   ]
  },
  {
   "cell_type": "code",
   "execution_count": 31,
   "id": "ce4b1332",
   "metadata": {},
   "outputs": [
    {
     "name": "stdout",
     "output_type": "stream",
     "text": [
      "0\n"
     ]
    },
    {
     "ename": "ValueError",
     "evalue": "substring not found",
     "output_type": "error",
     "traceback": [
      "\u001b[1;31m---------------------------------------------------------------------------\u001b[0m",
      "\u001b[1;31mValueError\u001b[0m                                Traceback (most recent call last)",
      "Cell \u001b[1;32mIn [31], line 3\u001b[0m\n\u001b[0;32m      1\u001b[0m \u001b[38;5;66;03m# s.index(str) 用来查找str首个字符出现的索引值，找不到则报错\u001b[39;00m\n\u001b[0;32m      2\u001b[0m \u001b[38;5;28mprint\u001b[39m(s\u001b[38;5;241m.\u001b[39mindex(\u001b[38;5;124m'\u001b[39m\u001b[38;5;124mh\u001b[39m\u001b[38;5;124m'\u001b[39m))\n\u001b[1;32m----> 3\u001b[0m \u001b[38;5;28mprint\u001b[39m(\u001b[43ms\u001b[49m\u001b[38;5;241;43m.\u001b[39;49m\u001b[43mindex\u001b[49m\u001b[43m(\u001b[49m\u001b[38;5;124;43m'\u001b[39;49m\u001b[38;5;124;43mz\u001b[39;49m\u001b[38;5;124;43m'\u001b[39;49m\u001b[43m)\u001b[49m)\n",
      "\u001b[1;31mValueError\u001b[0m: substring not found"
     ]
    }
   ],
   "source": [
    "# s.index(str) 用来查找str首个字符出现的索引值，找不到则报错\n",
    "print(s.index('h'))\n",
    "print(s.index('z'))"
   ]
  },
  {
   "cell_type": "code",
   "execution_count": 32,
   "id": "a5b3c29f",
   "metadata": {},
   "outputs": [
    {
     "name": "stdout",
     "output_type": "stream",
     "text": [
      "请输入文本类的文件(.txt)文本.txt\n",
      "文件输入成功\n"
     ]
    }
   ],
   "source": [
    "fileName = input(\"请输入文本类的文件(.txt)\")\n",
    "if fileName.endswith('.txt'):\n",
    "    print(\"文件输入成功\")\n",
    "else:\n",
    "    print(\"文件类型必须是文本文件（.txt），请输入正确格式的文件！！！\")"
   ]
  },
  {
   "cell_type": "code",
   "execution_count": 34,
   "id": "908ddd27",
   "metadata": {},
   "outputs": [
    {
     "name": "stdout",
     "output_type": "stream",
     "text": [
      "请输入文本类的文件(.txt)文本.doc\n",
      "文件类型必须是文本文件（.txt），请输入正确格式的文件！！！\n"
     ]
    }
   ],
   "source": [
    "fileName = input(\"请输入文本类的文件(.txt)\")\n",
    "if fileName.endswith('.txt'):\n",
    "    print(\"文件输入成功\")\n",
    "else:\n",
    "    print(\"文件类型必须是文本文件（.txt），请输入正确格式的文件！！！\")"
   ]
  },
  {
   "cell_type": "code",
   "execution_count": 1,
   "id": "fce2a868",
   "metadata": {},
   "outputs": [
    {
     "name": "stdout",
     "output_type": "stream",
     "text": [
      "Li Hua says I love Python\n"
     ]
    }
   ],
   "source": [
    "# 格式化输出\n",
    "s = 'I love Python'\n",
    "print(\"Li Hua says %s\" %(s))"
   ]
  },
  {
   "cell_type": "code",
   "execution_count": 2,
   "id": "8f0554c0",
   "metadata": {},
   "outputs": [
    {
     "name": "stdout",
     "output_type": "stream",
     "text": [
      "我叫赵丽颖，今年岁18\n"
     ]
    }
   ],
   "source": [
    "name = '赵丽颖'\n",
    "age = 18\n",
    "print('我叫{}，今年岁{}'.format(name,age))"
   ]
  },
  {
   "cell_type": "code",
   "execution_count": 3,
   "id": "fb50a568",
   "metadata": {},
   "outputs": [
    {
     "name": "stdout",
     "output_type": "stream",
     "text": [
      "我叫李华，我住在铜锣湾，韩梅梅也住在铜锣湾\n"
     ]
    }
   ],
   "source": [
    "address = '铜锣湾'\n",
    "name = '李华'\n",
    "print('我叫{0}，我住在{1}，韩梅梅也住在{1}'.format(name,address))"
   ]
  },
  {
   "cell_type": "code",
   "execution_count": 4,
   "id": "b60e0573",
   "metadata": {},
   "outputs": [
    {
     "name": "stdout",
     "output_type": "stream",
     "text": [
      "我叫李华，我住在铜锣湾，韩梅梅也住在铜锣湾\n"
     ]
    }
   ],
   "source": [
    "# 如果{}里面放的是变量名，后面.format（）里必须是关键字参数\n",
    "print('我叫{name}，我住在{address}，韩梅梅也住在{address}'.format(name = '李华',address = '铜锣湾'))"
   ]
  },
  {
   "cell_type": "code",
   "execution_count": 6,
   "id": "0c4b2bc8",
   "metadata": {},
   "outputs": [
    {
     "name": "stdout",
     "output_type": "stream",
     "text": [
      "本次考试中，小明同学的成绩为：语文100分，数学99分，英语78分，总分199为\n"
     ]
    }
   ],
   "source": [
    "name = '小明'\n",
    "score_Chinese = 100\n",
    "score_Math = 99\n",
    "score_English = 78\n",
    "s = '本次考试中，{}同学的成绩为：语文{}分，数学{}分，英语{}分，总分{}为'.format(name,score_Chinese,score_Math,score_English,score_Chinese+score_Math,score_English)\n",
    "print(s)"
   ]
  },
  {
   "cell_type": "code",
   "execution_count": null,
   "id": "83a03351",
   "metadata": {},
   "outputs": [],
   "source": [
    "# 模拟论坛\n",
    "msg = input(\"发表一句话：\")\n",
    "print('-'*50)\n",
    "print('以下为回复内容')\n",
    "\n",
    "while True:\n",
    "    userName = input(\"请输入用户名\")\n",
    "    while True:\n",
    "        comment = input(\"请输入评论\")\n",
    "        comment = comment.strip()\n",
    "        if len(comment)!=0:\n",
    "            if len(comment) <= 20:\n",
    "                comment = comment.replace('他妈的','***')\n",
    "                print(\"{}：{}\".format(name,comment))\n",
    "                break\n",
    "            else:\n",
    "                print(\"评论不能超过20个字\")\n",
    "        else:\n",
    "            print(\"评论内容不能为空\")\n"
   ]
  },
  {
   "cell_type": "code",
   "execution_count": null,
   "id": "70feed31",
   "metadata": {},
   "outputs": [],
   "source": []
  }
 ],
 "metadata": {
  "kernelspec": {
   "display_name": "Python 3 (ipykernel)",
   "language": "python",
   "name": "python3"
  },
  "language_info": {
   "codemirror_mode": {
    "name": "ipython",
    "version": 3
   },
   "file_extension": ".py",
   "mimetype": "text/x-python",
   "name": "python",
   "nbconvert_exporter": "python",
   "pygments_lexer": "ipython3",
   "version": "3.10.0"
  }
 },
 "nbformat": 4,
 "nbformat_minor": 5
}
