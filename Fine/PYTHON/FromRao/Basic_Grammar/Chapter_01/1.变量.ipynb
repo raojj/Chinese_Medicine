{
 "cells": [
  {
   "cell_type": "markdown",
   "id": "945197fe",
   "metadata": {},
   "source": [
    "变量：容器，用来存储数据\n",
    "Python是一门弱语言，对变量进行声明的时候不是特别严格\n",
    "格式：变量名 = 值\n",
    "1.怎么起名，规范（见名知意）\n",
    "    1.1 只能是字母、数字、下划线，数字不能作为开头\n",
    "    1.2 严格区分大小写\n",
    "    1.3 不可以使用关键词\n",
    "    1.4 命名使用驼峰，即第二个单词开始首字母大写，或者用下划线隔开单词（建议）\n",
    "        1.4.1 大驼峰 myName  (my_name)\n",
    "        1.4.2 小驼峰 LastName(面向对象类名)\n",
    "2.可以赋哪些值\n",
    "3.有哪些数据类型\n",
    "    3.1 数据类型：\n",
    "        3.1.1 Number（数字）\n",
    "            3.1.1.1 int 有符号整形\n",
    "            3.1.1.2 long 长整型，也可以代表八进制和十六进制\n",
    "            3.1.1.3 float 浮点型\n",
    "            3.1.1.4 complex 复数\n",
    "        3.1.2 布尔类型\n",
    "            3.1.2.1 True\n",
    "            3.1.2.2 False\n",
    "        3.1.3 String 类型\n",
    "        3.1.4 List 列表\n",
    "        3.1.5 Tuple 元组\n",
    "        3.1.6 Dictionary 字典\n",
    "    3.2 数据转换\n",
    "        3.2.1 int ----> float\n",
    "        3.2.2 int ----> str\n",
    "        3.2.3 float ----> int\n",
    "        3.2.4 float ----> str\n",
    "        3.2.5 str ----> int(str内不包含小数点)\n",
    "        3.2.6 str ----> float\n",
    "        3.2.7 bool ----> int/float/str\n",
    "            True ----> 1/1.0/'True'\n",
    "            False ----> 0/0.0/'False'"
   ]
  },
  {
   "cell_type": "code",
   "execution_count": 1,
   "id": "15ab43c2",
   "metadata": {
    "scrolled": true
   },
   "outputs": [
    {
     "name": "stdout",
     "output_type": "stream",
     "text": [
      "['False', 'None', 'True', 'and', 'as', 'assert', 'async', 'await', 'break', 'class', 'continue', 'def', 'del', 'elif', 'else', 'except', 'finally', 'for', 'from', 'global', 'if', 'import', 'in', 'is', 'lambda', 'nonlocal', 'not', 'or', 'pass', 'raise', 'return', 'try', 'while', 'with', 'yield']\n"
     ]
    }
   ],
   "source": [
    "import keyword\n",
    "print(keyword.kwlist)"
   ]
  },
  {
   "cell_type": "code",
   "execution_count": 14,
   "id": "7956afe0",
   "metadata": {},
   "outputs": [
    {
     "name": "stdout",
     "output_type": "stream",
     "text": [
      "<class 'int'> <class 'float'> <class 'str'> <class 'str'> <class 'bool'>\n",
      "三引号在'赋值运算'中作为\"string\"类型的赋值符号\n",
      "可以换行,    保留文本的格式\n"
     ]
    }
   ],
   "source": [
    "# type(变量)：输出变量的数据类型\n",
    "money = 28\n",
    "temp = 36.5\n",
    "str = \"I love python\"\n",
    "str_1 = '''三引号在'赋值运算'中作为\"string\"类型的赋值符号\n",
    "可以换行,    保留文本的格式'''\n",
    "judgement = True\n",
    "print(type(money),type(temp),type(str),type(str_1),type(judgement))\n",
    "print(str_1)"
   ]
  },
  {
   "cell_type": "code",
   "execution_count": 21,
   "id": "2dfb6f57",
   "metadata": {},
   "outputs": [
    {
     "name": "stdout",
     "output_type": "stream",
     "text": [
      "请输入你猜的数：50\n",
      "您猜的数比我的数字小\n",
      "请输入你猜的数：75\n",
      "您猜的数比我的数字小\n",
      "请输入你猜的数：87\n",
      "您猜的数比我的数字小\n",
      "请输入你猜的数：95\n",
      "您猜的数比我的数字大\n",
      "请输入你猜的数：90\n",
      "您猜的数比我的数字小\n",
      "请输入你猜的数：94\n",
      "您猜的数比我的数字大\n",
      "请输入你猜的数：92\n",
      "恭喜您猜对了，数字是 92\n"
     ]
    }
   ],
   "source": [
    "import random\n",
    "x = random.randint(0,100)\n",
    "num = 0\n",
    "while(num != x):\n",
    "    num = int(input(\"请输入您猜的数：\"))# 强制数据类型转换，input输进来的都是str类型\n",
    "    if(num > x):\n",
    "        print(\"您猜的数比我的数字大\")\n",
    "    if(num < x):\n",
    "        \n",
    "        print(\"您猜的数比我的数字小\")\n",
    "print(\"恭喜您猜对了，数字是\",x)"
   ]
  },
  {
   "cell_type": "code",
   "execution_count": 20,
   "id": "7595d336",
   "metadata": {},
   "outputs": [
    {
     "name": "stdout",
     "output_type": "stream",
     "text": [
      "请输入第一个整数25\n",
      "请输入第二个整数45\n",
      "两数和为： 70\n"
     ]
    }
   ],
   "source": [
    "# practice,float转int可行，但是带小数点的str类型转int会报错\n",
    "m = int(input(\"请输入第一个整数\"))\n",
    "n = int(input(\"请输入第二个整数\"))\n",
    "print(\"两数和为：\", n + m)"
   ]
  },
  {
   "cell_type": "code",
   "execution_count": null,
   "id": "d32c1742",
   "metadata": {},
   "outputs": [],
   "source": []
  }
 ],
 "metadata": {
  "kernelspec": {
   "display_name": "Python 3 (ipykernel)",
   "language": "python",
   "name": "python3"
  },
  "language_info": {
   "codemirror_mode": {
    "name": "ipython",
    "version": 3
   },
   "file_extension": ".py",
   "mimetype": "text/x-python",
   "name": "python",
   "nbconvert_exporter": "python",
   "pygments_lexer": "ipython3",
   "version": "3.10.0"
  }
 },
 "nbformat": 4,
 "nbformat_minor": 5
}
