{
 "cells": [
  {
   "cell_type": "markdown",
   "id": "27807040",
   "metadata": {},
   "source": [
    "二进制：0，1\n",
    "八进制：0,1,2,3,4,5,6,7\n",
    "十进制：0,1,2,3,4,5,6,7,8,9\n",
    "十六进制：0,1,2,3,4,5,6,7,8,9,a,b,c,d,e,f\n",
    "\n",
    "位运算：\n",
    "& 按位与运算 参与运算的两个值，如果两个相应位都为1，则该位结果为1其余为0\n",
    "| 按位或运算 只要对应的二进制位有一个为1时则该位结果为1\n",
    "^ 按位异或运算 当对应二进制位相异时，结果为1\n",
    "~ 安慰取反运算 对数据的二进制位取反，即把1变为0,0变为1，~x相当于-x-1\n",
    "<< 左移动运算 运算数二进制全部向左移动若干位，高位丢弃低位补0\n",
    ">> 右移动运算 运算数二进制全部向右移动若干位,低位丢弃高位补0"
   ]
  },
  {
   "cell_type": "code",
   "execution_count": 3,
   "id": "f68817fb",
   "metadata": {},
   "outputs": [
    {
     "name": "stdout",
     "output_type": "stream",
     "text": [
      "0b10010101\n",
      "0o225\n",
      "0x95\n"
     ]
    }
   ],
   "source": [
    "n = 149\n",
    "print(bin(n))# 二进制\n",
    "print(oct(n))# 八进制\n",
    "print(hex(n))# 十六进制"
   ]
  },
  {
   "cell_type": "code",
   "execution_count": 7,
   "id": "93d1d8ed",
   "metadata": {},
   "outputs": [
    {
     "name": "stdout",
     "output_type": "stream",
     "text": [
      "329\n",
      "37\n",
      "375\n"
     ]
    }
   ],
   "source": [
    "n = 0x149 # 数字0\n",
    "m = 0b100101\n",
    "p = 0o567\n",
    "print(int(n))\n",
    "print(int(m))\n",
    "print(int(p))"
   ]
  },
  {
   "cell_type": "code",
   "execution_count": 9,
   "id": "a26e4aee",
   "metadata": {},
   "outputs": [
    {
     "name": "stdout",
     "output_type": "stream",
     "text": [
      "10\n",
      "11\n",
      "1\n",
      "-11\n",
      "40\n",
      "2\n"
     ]
    }
   ],
   "source": [
    "n = 10\n",
    "m = 11\n",
    "print(n & m)\n",
    "print(n | m)\n",
    "print(n ^ m)\n",
    "print(~n)\n",
    "print(n << 2)\n",
    "print(n >> 2)"
   ]
  },
  {
   "cell_type": "code",
   "execution_count": null,
   "id": "218dc519",
   "metadata": {},
   "outputs": [],
   "source": []
  }
 ],
 "metadata": {
  "kernelspec": {
   "display_name": "Python 3 (ipykernel)",
   "language": "python",
   "name": "python3"
  },
  "language_info": {
   "codemirror_mode": {
    "name": "ipython",
    "version": 3
   },
   "file_extension": ".py",
   "mimetype": "text/x-python",
   "name": "python",
   "nbconvert_exporter": "python",
   "pygments_lexer": "ipython3",
   "version": "3.10.0"
  }
 },
 "nbformat": 4,
 "nbformat_minor": 5
}
