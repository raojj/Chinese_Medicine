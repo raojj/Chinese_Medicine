{
 "cells": [
  {
   "cell_type": "markdown",
   "id": "0e679f7f",
   "metadata": {},
   "source": [
    "列表：\n",
    "listName = [elem1,elem2,elem3....]\n",
    "emptyList = []\n",
    "listInList = [[],[],[],[],[]]"
   ]
  },
  {
   "cell_type": "code",
   "execution_count": 5,
   "id": "1f022809",
   "metadata": {},
   "outputs": [
    {
     "name": "stdout",
     "output_type": "stream",
     "text": [
      "['phone', 'computer', 'bread', 'water', 'milk']\n"
     ]
    }
   ],
   "source": [
    "shoppingList = ['phone', 'computer', 'bread', 'water', 'milk']\n",
    "print(shoppingList)\n"
   ]
  },
  {
   "cell_type": "code",
   "execution_count": 7,
   "id": "a86348f3",
   "metadata": {},
   "outputs": [
    {
     "name": "stdout",
     "output_type": "stream",
     "text": [
      "phone\n",
      "computer\n",
      "bread\n",
      "water\n",
      "milk\n"
     ]
    }
   ],
   "source": [
    "for i in shoppingList:\n",
    "    print(i)"
   ]
  },
  {
   "cell_type": "code",
   "execution_count": 8,
   "id": "772fc582",
   "metadata": {},
   "outputs": [
    {
     "data": {
      "text/plain": [
       "['phone', 'computer']"
      ]
     },
     "execution_count": 8,
     "metadata": {},
     "output_type": "execute_result"
    }
   ],
   "source": [
    "shoppingList[:2]"
   ]
  },
  {
   "cell_type": "code",
   "execution_count": 10,
   "id": "c305ad5d",
   "metadata": {},
   "outputs": [
    {
     "data": {
      "text/plain": [
       "['bread', 'water']"
      ]
     },
     "execution_count": 10,
     "metadata": {},
     "output_type": "execute_result"
    }
   ],
   "source": [
    "shoppingList[2:4]"
   ]
  },
  {
   "cell_type": "code",
   "execution_count": 12,
   "id": "6546c091",
   "metadata": {},
   "outputs": [
    {
     "name": "stdout",
     "output_type": "stream",
     "text": [
      "['phone', 'computer', 'bread', 'water', 'milk', 'coffee', 'mooncake']\n",
      "['phone', 'computer', 'bread', 'water', 'milk', 'coffee', 'mooncake', 'PTSD']\n"
     ]
    }
   ],
   "source": [
    "# 列表的添加\n",
    "# 合并列表\n",
    "sList = ['coffee','mooncake']\n",
    "shoppingList.extend(sList)\n",
    "print(shoppingList)\n",
    "# 列表添加元素\n",
    "shoppingList.append('PTSD')\n",
    "print(shoppingList)"
   ]
  },
  {
   "cell_type": "code",
   "execution_count": 13,
   "id": "6e560fcf",
   "metadata": {},
   "outputs": [
    {
     "data": {
      "text/plain": [
       "[28, 53, 82, 68, 71, 79, 91, 96, 53, 49]"
      ]
     },
     "execution_count": 13,
     "metadata": {},
     "output_type": "execute_result"
    }
   ],
   "source": [
    "import random\n",
    "randomnumber = [random.randint(10,100) for i in  range(10)]\n",
    "randomnumber"
   ]
  },
  {
   "cell_type": "code",
   "execution_count": 15,
   "id": "8046858c",
   "metadata": {},
   "outputs": [
    {
     "name": "stdout",
     "output_type": "stream",
     "text": [
      "请输入你想购买的产品，输入“结束”停止程序：电脑\n",
      "请输入你想购买的产品，输入“结束”停止程序：手机\n",
      "请输入你想购买的产品，输入“结束”停止程序：钢笔\n",
      "请输入你想购买的产品，输入“结束”停止程序：热水壶\n",
      "请输入你想购买的产品，输入“结束”停止程序：课程\n",
      "请输入你想购买的产品，输入“结束”停止程序：结束\n",
      "['电脑', '手机', '钢笔', '热水壶', '课程']\n"
     ]
    }
   ],
   "source": [
    "sList = []\n",
    "obj = ''\n",
    "while obj != '结束':\n",
    "    obj = input(\"请输入你想购买的产品，输入“结束”停止程序：\")\n",
    "    sList.append(obj)\n",
    "# 根据元素内容删除列表内的元素\n",
    "sList.remove(\"结束\")\n",
    "print(sList)"
   ]
  },
  {
   "cell_type": "code",
   "execution_count": null,
   "id": "e70e8682",
   "metadata": {},
   "outputs": [],
   "source": []
  }
 ],
 "metadata": {
  "kernelspec": {
   "display_name": "Python 3 (ipykernel)",
   "language": "python",
   "name": "python3"
  },
  "language_info": {
   "codemirror_mode": {
    "name": "ipython",
    "version": 3
   },
   "file_extension": ".py",
   "mimetype": "text/x-python",
   "name": "python",
   "nbconvert_exporter": "python",
   "pygments_lexer": "ipython3",
   "version": "3.10.0"
  }
 },
 "nbformat": 4,
 "nbformat_minor": 5
}
