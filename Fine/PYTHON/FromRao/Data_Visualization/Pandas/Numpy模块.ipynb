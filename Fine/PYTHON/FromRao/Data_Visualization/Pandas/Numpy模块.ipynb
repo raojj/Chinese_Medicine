{
 "cells": [
  {
   "cell_type": "code",
   "execution_count": 2,
   "id": "b5d0db59",
   "metadata": {},
   "outputs": [],
   "source": [
    "# numpy模块可以构建多维数据的容器，将各种类型的数据快速地整合在一起，完成多维数据的计算及大型矩阵的存储和处理\n",
    "import numpy as np"
   ]
  },
  {
   "cell_type": "code",
   "execution_count": 2,
   "id": "d43475d9",
   "metadata": {},
   "outputs": [],
   "source": [
    "# 数组是一些相同类型的数据的集合，这些数据按照一定的顺序排列，并且每个数据占用大小相同的存储空间。\n",
    "a = np.array([1,2,3,4])\n",
    "b = np.array(['产品编号','销售数量','销售单价','销售金额'])"
   ]
  },
  {
   "cell_type": "code",
   "execution_count": 5,
   "id": "673ef115",
   "metadata": {},
   "outputs": [
    {
     "name": "stdout",
     "output_type": "stream",
     "text": [
      "[1 2 3 4]\n"
     ]
    }
   ],
   "source": [
    "print(a)"
   ]
  },
  {
   "cell_type": "code",
   "execution_count": 6,
   "id": "dff2b03f",
   "metadata": {},
   "outputs": [
    {
     "name": "stdout",
     "output_type": "stream",
     "text": [
      "['产品编号' '销售数量' '销售单价' '销售金额']\n"
     ]
    }
   ],
   "source": [
    "print(b)"
   ]
  },
  {
   "cell_type": "code",
   "execution_count": 7,
   "id": "dab42eb0",
   "metadata": {},
   "outputs": [
    {
     "name": "stdout",
     "output_type": "stream",
     "text": [
      "[[1 2 3]\n",
      " [4 5 6]\n",
      " [7 8 9]]\n"
     ]
    }
   ],
   "source": [
    "# 创建多维数组可以传入一系列的列表作为参数\n",
    "c = np.array([[1,2,3],[4,5,6],[7,8,9]])\n",
    "print(c)"
   ]
  },
  {
   "cell_type": "code",
   "execution_count": 8,
   "id": "e047082a",
   "metadata": {},
   "outputs": [
    {
     "data": {
      "text/plain": [
       "'\\nobject    必选，为一个序列型对象，如列表、元组、集合等，还可以是一个已创建好的数组\\ndtype     可选，用于指定数组元素的数据类型\\ncopy      可选，用于设置是否需要复制对象\\norder     可选，用于指定创建数组的样式\\nsubok     可选，默认返回一个与基类的类型一致的数组\\nndmin     可选，用于指定生成数组的最小维度\\n'"
      ]
     },
     "execution_count": 8,
     "metadata": {},
     "output_type": "execute_result"
    }
   ],
   "source": [
    "# np.array(object,dtype = None, copy = True, order = None, subok = False, ndmin = 0)\n",
    "'''\n",
    "object    必选，为一个序列型对象，如列表、元组、集合等，还可以是一个已创建好的数组\n",
    "dtype     可选，用于指定数组元素的数据类型\n",
    "copy      可选，用于设置是否需要复制对象\n",
    "order     可选，用于指定创建数组的样式\n",
    "subok     可选，默认返回一个与基类的类型一致的数组\n",
    "ndmin     可选，用于指定生成数组的最小维度\n",
    "'''"
   ]
  },
  {
   "cell_type": "code",
   "execution_count": 9,
   "id": "091ae3f2",
   "metadata": {},
   "outputs": [
    {
     "name": "stdout",
     "output_type": "stream",
     "text": [
      "[ 1  5  9 13 17]\n"
     ]
    }
   ],
   "source": [
    "# 创建一个等差数组\n",
    "# arange(start,end,step，dtype = None),去掉step默认步长为1，省略start默认从0开始;dtype可选，用于指定数组元素的数据类型\n",
    "d = np.arange(1,20,4)\n",
    "print(d)"
   ]
  },
  {
   "cell_type": "code",
   "execution_count": 10,
   "id": "681bed93",
   "metadata": {},
   "outputs": [
    {
     "name": "stdout",
     "output_type": "stream",
     "text": [
      "[0.88174219 0.03358729 0.12052534]\n"
     ]
    }
   ],
   "source": [
    "# 创建随机数组\n",
    "# 表示创建一个有3个元素的一维数组，元素范围是[0,1)\n",
    "e = np.random.rand(3)\n",
    "print(e)"
   ]
  },
  {
   "cell_type": "code",
   "execution_count": 12,
   "id": "52ebef93",
   "metadata": {},
   "outputs": [
    {
     "data": {
      "text/plain": [
       "array([[0.70825186, 0.27391714, 0.92121253],\n",
       "       [0.67150126, 0.66886806, 0.60146994]])"
      ]
     },
     "execution_count": 12,
     "metadata": {},
     "output_type": "execute_result"
    }
   ],
   "source": [
    "# 创建一个2行3列的数组，元素范围是[0,1)\n",
    "e = np.random.rand(2,3)\n",
    "e"
   ]
  },
  {
   "cell_type": "code",
   "execution_count": 14,
   "id": "eb282466",
   "metadata": {},
   "outputs": [
    {
     "name": "stdout",
     "output_type": "stream",
     "text": [
      "[-1.41098208  0.5075893   1.0738486  -0.03117483 -0.43055257  0.75434308\n",
      " -0.94520035  0.16450616  1.12592923  0.14150769]\n"
     ]
    }
   ],
   "source": [
    "# randn()函数创建的 数组中的元素是符合标准正态分布的（均值为0，标准差为1）\n",
    "# \n",
    "e = np.random.randn(10)\n",
    "print(e)"
   ]
  },
  {
   "cell_type": "code",
   "execution_count": 16,
   "id": "652570f8",
   "metadata": {},
   "outputs": [
    {
     "name": "stdout",
     "output_type": "stream",
     "text": [
      "[[-1.1773222  -0.01218687  0.50648746 -0.92808504 -0.16779968 -1.6423427\n",
      "  -0.33846317 -1.85023183 -0.21309308 -0.55870201]\n",
      " [-1.10032258 -1.04011116  2.29134233 -0.70138817 -1.79635749  0.57475262\n",
      "  -1.1087878  -2.17333359 -1.28609474  1.12212921]\n",
      " [-0.50941943  0.15242875 -0.99178496 -1.33800555 -1.24195287 -0.34524869\n",
      "   0.68262004 -0.88490607 -0.17860125 -0.09671893]\n",
      " [-1.38374893  0.88733223  0.36727858  0.36559431 -0.16992672 -0.78521204\n",
      "   0.0282797   1.06904203  0.79217776 -0.15385258]\n",
      " [ 0.87830405  1.26788017 -0.82833417  0.33188662 -0.52676692  1.25944123\n",
      "   1.12642576 -0.49118379  0.09011258  0.41046742]\n",
      " [ 0.67400873 -1.10416668  0.30297728 -0.13547663  0.25999303 -0.10704691\n",
      "  -0.50593868  0.51893781  0.30440963  0.23223728]\n",
      " [-0.89556102 -0.96491776  1.19978534 -0.52166567  1.84940206 -0.28575608\n",
      "  -1.25866881 -1.27830531  1.0479981   0.83733307]\n",
      " [-2.09537763  1.006177    2.39514774  0.45044156  0.23639965  0.33500138\n",
      "   0.63838754  0.01208919  0.75651154  1.19646682]\n",
      " [ 0.98325434  0.19855109  0.94536461  0.5899432   0.25049601  0.6026537\n",
      "  -0.76892173 -1.52543948  0.45304616 -0.37960544]\n",
      " [-0.89522055 -1.79873544 -0.68241731 -0.22544207 -2.2784303  -2.02426005\n",
      "   0.75425335  0.6998595   2.12529954  0.01338883]]\n"
     ]
    }
   ],
   "source": [
    "e = np.random.randn(10,10)\n",
    "print(e)"
   ]
  },
  {
   "cell_type": "code",
   "execution_count": 17,
   "id": "c837aee2",
   "metadata": {},
   "outputs": [
    {
     "data": {
      "text/plain": [
       "-9.677840625791122"
      ]
     },
     "execution_count": 17,
     "metadata": {},
     "output_type": "execute_result"
    }
   ],
   "source": [
    "e.sum()"
   ]
  },
  {
   "cell_type": "code",
   "execution_count": 18,
   "id": "46dffe0f",
   "metadata": {},
   "outputs": [
    {
     "name": "stdout",
     "output_type": "stream",
     "text": [
      "[2 2 1 1 4 4 3 2 3 1]\n"
     ]
    }
   ],
   "source": [
    "# randint()创建的数组中的元素是指定范围内的随机整数\n",
    "# 创建一个包含10个[1,5)元素的一维数组\n",
    "e = np.random.randint(1,5,10)\n",
    "print(e)"
   ]
  },
  {
   "cell_type": "code",
   "execution_count": 20,
   "id": "0964e6b0",
   "metadata": {},
   "outputs": [
    {
     "name": "stdout",
     "output_type": "stream",
     "text": [
      "[[2 4 3 2 1]\n",
      " [3 4 4 2 3]\n",
      " [2 1 2 2 1]\n",
      " [1 3 1 1 1]]\n"
     ]
    }
   ],
   "source": [
    "# 创建一个4行5列的数组（20个元素）\n",
    "e = np.random.randint(1,5,(4,5))\n",
    "print(e)"
   ]
  },
  {
   "cell_type": "code",
   "execution_count": 24,
   "id": "653d0f99",
   "metadata": {},
   "outputs": [
    {
     "name": "stdout",
     "output_type": "stream",
     "text": [
      "(4, 5)\n",
      "4\n",
      "5\n"
     ]
    }
   ],
   "source": [
    "# arr.shape返回数组的行列数信息,返回的是一个元组\n",
    "print(e.shape)\n",
    "print(e.shape[0])\n",
    "print(e.shape[1])"
   ]
  },
  {
   "cell_type": "code",
   "execution_count": 25,
   "id": "e67bbef5",
   "metadata": {},
   "outputs": [
    {
     "data": {
      "text/plain": [
       "20"
      ]
     },
     "execution_count": 25,
     "metadata": {},
     "output_type": "execute_result"
    }
   ],
   "source": [
    "# arr.size返回的是数组的元素个数\n",
    "e.size"
   ]
  },
  {
   "cell_type": "code",
   "execution_count": 26,
   "id": "49ef5501",
   "metadata": {},
   "outputs": [
    {
     "data": {
      "text/plain": [
       "dtype('int32')"
      ]
     },
     "execution_count": 26,
     "metadata": {},
     "output_type": "execute_result"
    }
   ],
   "source": [
    "# arr.dtype返回的是数组的元素数据类型\n",
    "e.dtype"
   ]
  },
  {
   "cell_type": "code",
   "execution_count": 29,
   "id": "4f77d0d4",
   "metadata": {},
   "outputs": [
    {
     "name": "stdout",
     "output_type": "stream",
     "text": [
      "float64\n",
      "[[2. 4. 3. 2. 1.]\n",
      " [3. 4. 4. 2. 3.]\n",
      " [2. 1. 2. 2. 1.]\n",
      " [1. 3. 1. 1. 1.]]\n"
     ]
    }
   ],
   "source": [
    "# arr.astype(element type)可以用来转化数组元素的数据类型,返回的是对应数据类型的数组\n",
    "e = e.astype(float)\n",
    "print(e.dtype)\n",
    "print(e)"
   ]
  },
  {
   "cell_type": "code",
   "execution_count": 30,
   "id": "1fdca4b1",
   "metadata": {},
   "outputs": [
    {
     "name": "stdout",
     "output_type": "stream",
     "text": [
      "2\n"
     ]
    }
   ],
   "source": [
    "# arr.ndim返回的是数组的维度\n",
    "print(e.ndim)"
   ]
  },
  {
   "cell_type": "code",
   "execution_count": 31,
   "id": "052281d5",
   "metadata": {},
   "outputs": [
    {
     "name": "stdout",
     "output_type": "stream",
     "text": [
      "[[2. 4. 3. 2.]\n",
      " [1. 3. 4. 4.]\n",
      " [2. 3. 2. 1.]\n",
      " [2. 2. 1. 1.]\n",
      " [3. 1. 1. 1.]]\n"
     ]
    }
   ],
   "source": [
    "# 数组的重塑是指更改数组的形状，也就是将某个维度的数组转化为另一个维度的数组\n",
    "# numpy模块中的reshape()函数可以在不改变数组元素内容和个数的前提下重塑数组的形状\n",
    "# tips：数组重塑后的元素个数应与重塑前相同\n",
    "e = e.reshape(5,4)\n",
    "print(e)"
   ]
  },
  {
   "cell_type": "code",
   "execution_count": 32,
   "id": "1295b070",
   "metadata": {},
   "outputs": [
    {
     "name": "stdout",
     "output_type": "stream",
     "text": [
      "[[[2. 4. 3. 2. 1.]\n",
      "  [3. 4. 4. 2. 3.]]\n",
      "\n",
      " [[2. 1. 2. 2. 1.]\n",
      "  [1. 3. 1. 1. 1.]]]\n"
     ]
    }
   ],
   "source": [
    "e = e.reshape(2,2,5)\n",
    "print(e)"
   ]
  },
  {
   "cell_type": "code",
   "execution_count": 36,
   "id": "8603e214",
   "metadata": {},
   "outputs": [
    {
     "data": {
      "text/plain": [
       "2.0"
      ]
     },
     "execution_count": 36,
     "metadata": {},
     "output_type": "execute_result"
    }
   ],
   "source": [
    "e[0,0,0]"
   ]
  },
  {
   "cell_type": "code",
   "execution_count": 37,
   "id": "bd95c337",
   "metadata": {},
   "outputs": [
    {
     "data": {
      "text/plain": [
       "array([2., 4., 3., 2., 1., 3., 4., 4., 2., 3., 2., 1., 2., 2., 1., 1., 3.,\n",
       "       1., 1., 1.])"
      ]
     },
     "execution_count": 37,
     "metadata": {},
     "output_type": "execute_result"
    }
   ],
   "source": [
    "# 将多维数组转化为一维数组\n",
    "e.flatten()"
   ]
  },
  {
   "cell_type": "code",
   "execution_count": 39,
   "id": "14082ed9",
   "metadata": {},
   "outputs": [
    {
     "data": {
      "text/plain": [
       "array([2., 4., 3., 2., 1., 3., 4., 4., 2., 3., 2., 1., 2., 2., 1., 1., 3.,\n",
       "       1., 1., 1.])"
      ]
     },
     "execution_count": 39,
     "metadata": {},
     "output_type": "execute_result"
    }
   ],
   "source": [
    "# 将多维数组转化为一维数组\n",
    "\n",
    "e.ravel()"
   ]
  },
  {
   "cell_type": "code",
   "execution_count": 41,
   "id": "ada7c145",
   "metadata": {},
   "outputs": [
    {
     "name": "stdout",
     "output_type": "stream",
     "text": [
      "[[1 4 3 1 1]\n",
      " [3 4 1 3 3]\n",
      " [2 3 4 1 3]\n",
      " [4 2 1 3 3]]\n",
      "[[1 3 2 4]\n",
      " [4 4 3 2]\n",
      " [3 1 4 1]\n",
      " [1 3 1 3]\n",
      " [1 3 3 3]]\n"
     ]
    }
   ],
   "source": [
    "# 数组的转置，numpy提供T属性和transpose()函数两种方法,后者返回的是转置后的数组\n",
    "e = np.random.randint(1,5,(4,5))\n",
    "print(e)\n",
    "print(e.T)"
   ]
  },
  {
   "cell_type": "code",
   "execution_count": 46,
   "id": "649e3d92",
   "metadata": {},
   "outputs": [
    {
     "name": "stdout",
     "output_type": "stream",
     "text": [
      "[1 4 3 1 1 3 4 1 3 3 2 3 4 1 3 4 2 1 3 3 1 2 3 4 5]\n"
     ]
    }
   ],
   "source": [
    "# 数组添加元素，使用numpy提供的append()函数，不设置axis参数时，会导致数组变为一维数组\n",
    "e1 = np.append(e,[[1,2,3,4,5]])\n",
    "print(e1)"
   ]
  },
  {
   "cell_type": "code",
   "execution_count": 47,
   "id": "b3cf55e4",
   "metadata": {},
   "outputs": [
    {
     "name": "stdout",
     "output_type": "stream",
     "text": [
      "[[1 4 3 1 1]\n",
      " [3 4 1 3 3]\n",
      " [2 3 4 1 3]\n",
      " [4 2 1 3 3]\n",
      " [1 2 3 4 5]]\n"
     ]
    }
   ],
   "source": [
    "e2 = np.append(e,[[1,2,3,4,5]],axis = 0)\n",
    "print(e2)"
   ]
  },
  {
   "cell_type": "code",
   "execution_count": 77,
   "id": "58eca8d9",
   "metadata": {},
   "outputs": [
    {
     "name": "stdout",
     "output_type": "stream",
     "text": [
      "[[1 4 3 1 1 1]\n",
      " [3 4 1 3 3 2]\n",
      " [2 3 4 1 3 3]\n",
      " [4 2 1 3 3 4]]\n"
     ]
    }
   ],
   "source": [
    "e3 = np.append(e,[[1],[2],[3],[4]],axis = 1)\n",
    "print(e3)"
   ]
  },
  {
   "cell_type": "code",
   "execution_count": 58,
   "id": "d426f9ff",
   "metadata": {},
   "outputs": [
    {
     "name": "stdout",
     "output_type": "stream",
     "text": [
      "[1 4 3 1 1 1 3 4 1 3 3 2 0 0 2 3 4 1 3 3 4 2 1 3 3 4]\n"
     ]
    }
   ],
   "source": [
    "# insert()函数（numpy）可以在数组指定位置上插入一个元素,不设置axis参数时，会导致数组变为一维数组\n",
    "# np.insert(arr,index,[elem,elem,elem]), 元素插入的位置在索引值为index 的前面\n",
    "e3 = np.insert(e3,12,[0,0])\n",
    "print(e3)"
   ]
  },
  {
   "cell_type": "code",
   "execution_count": 78,
   "id": "5e594802",
   "metadata": {},
   "outputs": [
    {
     "name": "stdout",
     "output_type": "stream",
     "text": [
      "[[0 0 0 0 0 0]\n",
      " [1 4 3 1 1 1]\n",
      " [3 4 1 3 3 2]\n",
      " [2 3 4 1 3 3]\n",
      " [4 2 1 3 3 4]]\n"
     ]
    }
   ],
   "source": [
    "e3 = np.insert(e3,0,[0,0,0,0,0,0],axis = 0)\n",
    "print(e3)"
   ]
  },
  {
   "cell_type": "code",
   "execution_count": 79,
   "id": "7ab9841f",
   "metadata": {},
   "outputs": [
    {
     "name": "stdout",
     "output_type": "stream",
     "text": [
      "[[0 0 0 0 0 0 0]\n",
      " [0 1 4 3 1 1 1]\n",
      " [0 3 4 1 3 3 2]\n",
      " [0 2 3 4 1 3 3]\n",
      " [0 4 2 1 3 3 4]]\n"
     ]
    }
   ],
   "source": [
    "e3 = np.insert(e3,0,[0,0,0,0,0],axis = 1)\n",
    "print(e3)"
   ]
  },
  {
   "cell_type": "code",
   "execution_count": 80,
   "id": "678119b4",
   "metadata": {},
   "outputs": [
    {
     "name": "stdout",
     "output_type": "stream",
     "text": [
      "[[0 1 4 3 1 1 1]\n",
      " [0 3 4 1 3 3 2]\n",
      " [0 2 3 4 1 3 3]\n",
      " [0 4 2 1 3 3 4]]\n"
     ]
    }
   ],
   "source": [
    "# delet()函数（numpy）删除数组元素\n",
    "e3 = np.delete(e3,0,axis=0)\n",
    "print(e3)"
   ]
  },
  {
   "cell_type": "code",
   "execution_count": 81,
   "id": "d39c88ee",
   "metadata": {},
   "outputs": [
    {
     "name": "stdout",
     "output_type": "stream",
     "text": [
      "[[1 4 3 1 1 1]\n",
      " [3 4 1 3 3 2]\n",
      " [2 3 4 1 3 3]\n",
      " [4 2 1 3 3 4]]\n"
     ]
    }
   ],
   "source": [
    "e3 = np.delete(e3,0,axis=1)\n",
    "print(e3)"
   ]
  },
  {
   "cell_type": "code",
   "execution_count": 89,
   "id": "a38e51a8",
   "metadata": {},
   "outputs": [
    {
     "name": "stdout",
     "output_type": "stream",
     "text": [
      "[ 1.  2.  3.  4.  5.  6. nan  8.  9.]\n",
      "[False False False False False False  True False False]\n"
     ]
    }
   ],
   "source": [
    "# 数组的缺失值，isnan()函数（numpy）可以标记数组中缺失值的位置\n",
    "arr = np.array([1,2,3,4,5,6,np.nan,8,9])\n",
    "print(arr)\n",
    "print(np.isnan(arr))"
   ]
  },
  {
   "cell_type": "code",
   "execution_count": 90,
   "id": "cbed5156",
   "metadata": {},
   "outputs": [
    {
     "name": "stdout",
     "output_type": "stream",
     "text": [
      "[1. 2. 3. 4. 5. 6. 0. 8. 9.]\n"
     ]
    }
   ],
   "source": [
    "# 对缺失值进行填充\n",
    "arr[np.isnan(arr)] = 0\n",
    "print(arr)"
   ]
  },
  {
   "cell_type": "code",
   "execution_count": 95,
   "id": "96dada7b",
   "metadata": {},
   "outputs": [
    {
     "name": "stdout",
     "output_type": "stream",
     "text": [
      "[2 3 4 5 6 8 9]\n",
      "(array([2, 3, 4, 5, 6, 8, 9]), array([2, 1, 1, 4, 1, 3, 1], dtype=int64))\n"
     ]
    }
   ],
   "source": [
    "# nmpy中的unique()函数可以处理重复值，还会将去重后的数组元素从小到大排列\n",
    "arr = np.array([8,4,2,3,5,2,5,5,5,6,8,8,9])\n",
    "arr1 = np.unique(arr)\n",
    "arr2 = np.unique(arr,return_counts = True)\n",
    "print(arr1)\n",
    "# 输出结果前面的为去重后的结果，后面为每个元素出现的次数，例如2出现了2次\n",
    "print(arr2)"
   ]
  },
  {
   "cell_type": "code",
   "execution_count": 3,
   "id": "31724b77",
   "metadata": {},
   "outputs": [
    {
     "name": "stdout",
     "output_type": "stream",
     "text": [
      "[[ 1  2  3]\n",
      " [ 4  5  6]\n",
      " [ 7  8  9]\n",
      " [10 11 12]]\n",
      "[[ 1  2  3  7  8  9]\n",
      " [ 4  5  6 10 11 12]]\n"
     ]
    }
   ],
   "source": [
    "# 数组的拼接是指将多个数组合并为一个数组，可以使用numpy模块中的concatenate()函数、hstack()函数和vstack()函数，待合并的几个数组的维度必须相同\n",
    "# 如果合并的是一维数组，数组的形状可以不一样，但如果是多维数组的话则行列数必须相同\n",
    "# arr3 = np.concatenate((arr1,arr2),axis = 0)   ==   arr3 = vstack(arr1,arr2)\n",
    "# arr4 = np.concatenate((arr1,arr2),axis = 1)   ==   arr4 = hstack(arr1,arr2)\n",
    "arr1 = np.array([[1,2,3],[4,5,6]])\n",
    "arr2 = np.array([[7,8,9],[10,11,12]])\n",
    "# 列方向上拼接\n",
    "arr3 = np.concatenate((arr1,arr2),axis = 0)\n",
    "# 行方向上拼接\n",
    "arr4 = np.concatenate((arr1,arr2),axis = 1)\n",
    "print(arr3)\n",
    "print(arr4)"
   ]
  },
  {
   "cell_type": "code",
   "execution_count": 4,
   "id": "bc17fe32",
   "metadata": {},
   "outputs": [
    {
     "name": "stdout",
     "output_type": "stream",
     "text": [
      "78\n",
      "[15 18 21 24]\n",
      "[10 26 42]\n"
     ]
    }
   ],
   "source": [
    "# 数组的求和运算 sum(); 数组求平均值mean();求最值max()、min()\n",
    "arr = np.array([[1,2,3,4],[5,6,7,8],[9,10,11,12]])\n",
    "# 所有元素之和\n",
    "print(arr.sum())\n",
    "# 对每一列元素分别求和\n",
    "print(arr.sum(axis = 0))\n",
    "# 对每一行元素分别求和\n",
    "print(arr.sum(axis = 1))"
   ]
  },
  {
   "cell_type": "code",
   "execution_count": null,
   "id": "654aff2f",
   "metadata": {},
   "outputs": [],
   "source": []
  }
 ],
 "metadata": {
  "kernelspec": {
   "display_name": "Python 3 (ipykernel)",
   "language": "python",
   "name": "python3"
  },
  "language_info": {
   "codemirror_mode": {
    "name": "ipython",
    "version": 3
   },
   "file_extension": ".py",
   "mimetype": "text/x-python",
   "name": "python",
   "nbconvert_exporter": "python",
   "pygments_lexer": "ipython3",
   "version": "3.10.0"
  }
 },
 "nbformat": 4,
 "nbformat_minor": 5
}
